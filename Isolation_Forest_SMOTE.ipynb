{
  "cells": [
    {
      "cell_type": "code",
      "execution_count": null,
      "metadata": {
        "colab": {
          "base_uri": "https://localhost:8080/"
        },
        "id": "fgAHFLns36tl",
        "outputId": "ea2cdb2c-086c-46bf-a1bd-ab007a401879"
      },
      "outputs": [],
      "source": [
        "from google.colab import drive\n",
        "drive.mount('/content/drive')"
      ]
    },
    {
      "cell_type": "markdown",
      "metadata": {
        "id": "r1QcT-v448fs"
      },
      "source": [
        "# Loading the Libraries"
      ]
    },
    {
      "cell_type": "code",
      "execution_count": null,
      "metadata": {
        "id": "m1n6pjga479J"
      },
      "outputs": [],
      "source": [
        "import numpy as np\n",
        "import pandas as pd\n",
        "import matplotlib.pyplot as plt\n",
        "from sklearn.model_selection import train_test_split\n",
        "from sklearn.preprocessing import StandardScaler\n",
        "from sklearn.ensemble import IsolationForest\n",
        "from imblearn.over_sampling import SMOTE\n",
        "from sklearn.metrics import classification_report, confusion_matrix, accuracy_score,precision_score,recall_score\n",
        "import random\n",
        "import tensorflow as tf\n",
        "from tensorflow import keras\n",
        "from tensorflow.keras import layers\n",
        "from tensorflow.keras.callbacks import ReduceLROnPlateau, EarlyStopping\n",
        "from joblib import Parallel, delayed, parallel_backend\n",
        "from tensorflow.keras.backend import clear_session"
      ]
    },
    {
      "cell_type": "markdown",
      "metadata": {
        "id": "0LBVCHMh5HR0"
      },
      "source": [
        "# Loading the Data"
      ]
    },
    {
      "cell_type": "code",
      "execution_count": null,
      "metadata": {
        "colab": {
          "base_uri": "https://localhost:8080/",
          "height": 255
        },
        "id": "w_TjeFdP5J5M",
        "outputId": "de8c1caf-8891-472e-e273-8a386c1e8011"
      },
      "outputs": [],
      "source": [
        "df = pd.read_csv(\"/content/drive/MyDrive/Major Project/creditcard.csv\")\n",
        "df.head(5)"
      ]
    },
    {
      "cell_type": "markdown",
      "metadata": {
        "id": "sIOd6Sis5keE"
      },
      "source": [
        "# Scale Amount and Time"
      ]
    },
    {
      "cell_type": "code",
      "execution_count": null,
      "metadata": {
        "id": "3qy8pvex5r5N"
      },
      "outputs": [],
      "source": [
        "df[['Scaled_Time', 'Scaled_Amount']] = StandardScaler().fit_transform(df[['Time', 'Amount']])\n",
        "df = df.drop(['Time', 'Amount'], axis=1)"
      ]
    },
    {
      "cell_type": "markdown",
      "metadata": {
        "id": "xhVbd7UA5t7o"
      },
      "source": [
        "# Handling Class Imbalance using SMOTE"
      ]
    },
    {
      "cell_type": "code",
      "execution_count": null,
      "metadata": {
        "colab": {
          "base_uri": "https://localhost:8080/"
        },
        "id": "K7t-ZuCL57Tr",
        "outputId": "38b1e5d4-26a5-4af1-db9a-7b40a34182c7"
      },
      "outputs": [],
      "source": [
        "X = df.drop(['Class'], axis=1)\n",
        "y = df['Class']\n",
        "smote = SMOTE(sampling_strategy=0.2, random_state=42)\n",
        "X_res, y_res = smote.fit_resample(X, y)"
      ]
    },
    {
      "cell_type": "code",
      "execution_count": null,
      "metadata": {
        "colab": {
          "base_uri": "https://localhost:8080/"
        },
        "id": "vTBOH2butQ1J",
        "outputId": "e12d2efe-e55f-4153-dac3-2c76da4938d2"
      },
      "outputs": [],
      "source": [
        "len(X_res)"
      ]
    },
    {
      "cell_type": "markdown",
      "metadata": {
        "id": "5ezVhtUx6xuZ"
      },
      "source": [
        "# Split the Dataset"
      ]
    },
    {
      "cell_type": "code",
      "execution_count": null,
      "metadata": {
        "id": "Ixpva3Pi61Bo"
      },
      "outputs": [],
      "source": [
        "X_train, X_test, y_train, y_test = train_test_split(X_res, y_res, test_size=.2, random_state=42)"
      ]
    },
    {
      "cell_type": "code",
      "execution_count": null,
      "metadata": {
        "colab": {
          "base_uri": "https://localhost:8080/"
        },
        "id": "s41Tl37ItVz_",
        "outputId": "f0f1c620-1fed-405a-e121-c2f5b4ce8f0b"
      },
      "outputs": [],
      "source": [
        "len(X_train)"
      ]
    },
    {
      "cell_type": "code",
      "execution_count": null,
      "metadata": {
        "colab": {
          "base_uri": "https://localhost:8080/"
        },
        "id": "TgJP20N5tYsY",
        "outputId": "732a8340-09dd-4ff3-b865-d48a22f00834"
      },
      "outputs": [],
      "source": [
        "len(X_test)"
      ]
    },
    {
      "cell_type": "markdown",
      "metadata": {
        "id": "H7ICRAyK67Kp"
      },
      "source": [
        "# Training Isolation Forest Model"
      ]
    },
    {
      "cell_type": "code",
      "execution_count": null,
      "metadata": {
        "colab": {
          "base_uri": "https://localhost:8080/",
          "height": 80
        },
        "id": "xenMFoUO6_pm",
        "outputId": "fac4810a-e42a-4c45-9db3-569580117df5"
      },
      "outputs": [],
      "source": [
        "iso_forest = IsolationForest(n_estimators=100, max_samples='auto', contamination=0.01, random_state=42)\n",
        "iso_forest.fit(X_train)"
      ]
    },
    {
      "cell_type": "markdown",
      "metadata": {
        "id": "PcDMfbuh7Ppn"
      },
      "source": [
        "# Predicting the Values"
      ]
    },
    {
      "cell_type": "code",
      "execution_count": null,
      "metadata": {
        "id": "ByIwIpI77SL7"
      },
      "outputs": [],
      "source": [
        "y_pred_train = iso_forest.predict(X_train)\n",
        "y_pred_test = iso_forest.predict(X_test)"
      ]
    },
    {
      "cell_type": "markdown",
      "metadata": {
        "id": "5xyhQC-F7Wdb"
      },
      "source": [
        "# Converting the Predictions"
      ]
    },
    {
      "cell_type": "code",
      "execution_count": null,
      "metadata": {
        "id": "StRET8PN7mhY"
      },
      "outputs": [],
      "source": [
        "y_pred_train = np.where(y_pred_train == 1, 0, 1)\n",
        "y_pred_test = np.where(y_pred_test == 1, 0, 1)"
      ]
    },
    {
      "cell_type": "markdown",
      "metadata": {
        "id": "9zAbiw1p7onp"
      },
      "source": [
        "# Evaluation of the Model using Metrics"
      ]
    },
    {
      "cell_type": "code",
      "execution_count": null,
      "metadata": {
        "colab": {
          "base_uri": "https://localhost:8080/"
        },
        "id": "xNil_0Tc7oR0",
        "outputId": "d3988074-7739-4861-e976-795f11513bb7"
      },
      "outputs": [],
      "source": [
        "print('Classification report:\\n', classification_report(y_test, y_pred_test))\n",
        "cm = confusion_matrix(y_true=y_test, y_pred=y_pred_test)\n",
        "print('Confusion matrix:\\n', cm)\n",
        "print('Accuracy:', accuracy_score(y_test, y_pred_test))\n",
        "precision = precision_score(y_test, y_pred_test, pos_label=1.0)\n",
        "print('precision : ',precision)\n",
        "recall = recall_score(y_test, y_pred_test, pos_label=1.0)\n",
        "print('recall rate : ',recall)"
      ]
    },
    {
      "cell_type": "markdown",
      "metadata": {
        "id": "LaNi7qn07xaY"
      },
      "source": [
        "# Saving the Model Metrics"
      ]
    },
    {
      "cell_type": "code",
      "execution_count": null,
      "metadata": {
        "colab": {
          "base_uri": "https://localhost:8080/",
          "height": 616
        },
        "id": "bPrMAWw970JF",
        "outputId": "0d1b4d73-e911-4459-9a95-2d7e7d012ceb"
      },
      "outputs": [],
      "source": [
        "import os\n",
        "from joblib import dump\n",
        "from sklearn.metrics import classification_report, confusion_matrix, accuracy_score, precision_score, recall_score\n",
        "import matplotlib.pyplot as plt\n",
        "import seaborn as sns\n",
        "\n",
        "# Define output directory\n",
        "output_path = \"/content/drive/MyDrive/Major Project/Model_Outputs\"\n",
        "os.makedirs(output_path, exist_ok=True)\n",
        "\n",
        "# Saving the trained Isolation Forest model\n",
        "model_save_path = os.path.join(output_path, \"isolation_forest_model.joblib\")\n",
        "dump(iso_forest, model_save_path)\n",
        "print(\"Model saved at:\", model_save_path)\n",
        "\n",
        "# Predicting the output\n",
        "y_predicted = np.where(iso_forest.predict(X_test) == 1, 0, 1)  # 1 for normal, -1 for fraud mapped to binary classes\n",
        "\n",
        "# Saving the classification report and confusion matrix\n",
        "report = classification_report(y_test, y_predicted)\n",
        "cm = confusion_matrix(y_true=y_test, y_pred=y_predicted)\n",
        "accuracy = accuracy_score(y_test, y_predicted)\n",
        "precision = precision_score(y_test, y_predicted)\n",
        "recall = recall_score(y_test, y_predicted)\n",
        "\n",
        "output_file = os.path.join(output_path, \"iso_model_metrics.txt\")\n",
        "with open(output_file, \"w\") as f:\n",
        "    f.write(\"Classification Report:\\n\")\n",
        "    f.write(report)\n",
        "    f.write(\"\\nConfusion Matrix:\\n\")\n",
        "    f.write(str(cm))\n",
        "    f.write(f\"\\nAccuracy: {accuracy:.4f}\")\n",
        "    f.write(f\"\\nPrecision: {precision:.4f}\")\n",
        "    f.write(f\"\\nRecall: {recall:.4f}\")\n",
        "print(f\"Metrics saved at: {output_file}\")\n",
        "\n",
        "# Saving confusion matrix as a plot\n",
        "plt.figure(figsize=(8, 6))\n",
        "sns.heatmap(cm, annot=True, fmt='d', cmap='Blues')\n",
        "plt.title('Confusion Matrix')\n",
        "plt.xlabel('Predicted')\n",
        "plt.ylabel('Actual')\n",
        "plt.show()\n",
        "conf_matrix_path = os.path.join(output_path, 'confusion_matrix_iso.png')\n",
        "plt.savefig(conf_matrix_path)\n",
        "plt.close()\n",
        "print(f\"Confusion matrix plot saved at: {conf_matrix_path}\")"
      ]
    },
    {
      "cell_type": "markdown",
      "metadata": {
        "id": "ehxvsoP42dGq"
      },
      "source": [
        "# Loading the Saved Model"
      ]
    },
    {
      "cell_type": "code",
      "execution_count": null,
      "metadata": {
        "colab": {
          "base_uri": "https://localhost:8080/",
          "height": 1000
        },
        "id": "ADpS7GVv2fqZ",
        "outputId": "d729cdda-2d59-4e4d-8ff0-aec8a676b75c"
      },
      "outputs": [],
      "source": [
        "import joblib\n",
        "from joblib import load\n",
        "import os\n",
        "from sklearn.metrics import classification_report, confusion_matrix, accuracy_score,precision_score,recall_score, roc_auc_score,roc_curve,precision_recall_curve,auc,roc_curve,f1_score\n",
        "import matplotlib.pyplot as plt\n",
        "import seaborn as sns\n",
        "\n",
        "# Path to load the saved model\n",
        "model_load_path = \"/content/drive/MyDrive/Major Project/Model_Outputs/isolation_forest_model.joblib\"\n",
        "\n",
        "# Load the Isolation Forest model\n",
        "iso_forest_loaded = joblib.load(model_load_path)\n",
        "\n",
        "# Predict on test data\n",
        "y_pred_test = iso_forest_loaded.predict(X_test)\n",
        "y_pred_test = np.where(y_pred_test == 1, 0, 1)\n",
        "precision = precision_score(y_test, y_pred_test)\n",
        "recall = recall_score(y_test, y_pred_test)\n",
        "accuracy=accuracy_score(y_test,y_pred_test)\n",
        "f1=f1_score(y_test,y_pred_test)\n",
        "print(f\"Accuracy: {accuracy:.3f}\")\n",
        "print(f\"Precision: {precision:.3f}\")\n",
        "print(f\"Recall: {recall:.3f}\")\n",
        "print(f\"F1-Score: {f1:.3f}\")\n",
        "cm = confusion_matrix(y_true=y_test, y_pred=y_pred_test)\n",
        "\n",
        "plt.figure(figsize=(8, 6))\n",
        "sns.heatmap(cm, annot=True, fmt='d', cmap='Blues')\n",
        "plt.title('Confusion Matrix')\n",
        "plt.xlabel('Predicted')\n",
        "plt.ylabel('Actual')\n",
        "plt.show()\n",
        "\n",
        "# AUC-ROC Curve\n",
        "fpr, tpr, _ = roc_curve(y_test, y_pred_test)\n",
        "roc_auc = auc(fpr, tpr)\n",
        "\n",
        "plt.figure(figsize=(8, 6))\n",
        "plt.plot(fpr, tpr, color='red', label=f'ROC Curve (AUC = {roc_auc:.3f})')\n",
        "plt.title(\"AUC-ROC Curve\")\n",
        "plt.xlabel(\"False Positive Rate\")\n",
        "plt.ylabel(\"True Positive Rate\")\n",
        "plt.legend(loc=\"lower right\")\n",
        "plt.grid()\n",
        "plt.show()\n",
        "\n",
        "# AUC-PRC Curve\n",
        "precision_pr, recall_pr, _ = precision_recall_curve(y_test, y_pred_test)\n",
        "pr_auc = auc(recall_pr, precision_pr)\n",
        "\n",
        "plt.figure(figsize=(8, 6))\n",
        "plt.plot(recall_pr, precision_pr, color='blue', lw=2, label=f'PR Curve (AUC = {pr_auc:.3f})')\n",
        "plt.title(\"AUC-PRC Curve\")\n",
        "plt.xlabel(\"Recall\")\n",
        "plt.ylabel(\"Precision\")\n",
        "plt.legend(loc=\"lower left\")\n",
        "plt.grid()\n",
        "plt.show()"
      ]
    }
  ],
  "metadata": {
    "colab": {
      "provenance": []
    },
    "kernelspec": {
      "display_name": "Python 3",
      "name": "python3"
    },
    "language_info": {
      "name": "python"
    }
  },
  "nbformat": 4,
  "nbformat_minor": 0
}
