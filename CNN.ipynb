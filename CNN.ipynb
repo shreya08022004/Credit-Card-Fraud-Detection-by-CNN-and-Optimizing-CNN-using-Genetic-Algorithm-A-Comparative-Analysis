{
  "cells": [
    {
      "cell_type": "code",
      "execution_count": null,
      "metadata": {
        "colab": {
          "base_uri": "https://localhost:8080/"
        },
        "id": "CxavQM--XNRf",
        "outputId": "aa0c9145-59af-47f8-b196-de8f1db9c717"
      },
      "outputs": [],
      "source": [
        "from google.colab import drive\n",
        "drive.mount('/content/drive')"
      ]
    },
    {
      "cell_type": "markdown",
      "metadata": {
        "id": "6He6FJYXXY_1"
      },
      "source": [
        "# Loading the Libraries"
      ]
    },
    {
      "cell_type": "code",
      "execution_count": null,
      "metadata": {
        "id": "GI-QLufKXfP_"
      },
      "outputs": [],
      "source": [
        "import numpy as np\n",
        "import pandas as pd\n",
        "import matplotlib.pyplot as plt\n",
        "from sklearn.model_selection import train_test_split\n",
        "from sklearn.preprocessing import StandardScaler\n",
        "from imblearn.over_sampling import SMOTE\n",
        "from sklearn.metrics import classification_report, confusion_matrix, accuracy_score,precision_score,recall_score\n",
        "import random\n",
        "import tensorflow as tf\n",
        "from tensorflow import keras\n",
        "from tensorflow.keras import layers\n",
        "from tensorflow.keras.callbacks import ReduceLROnPlateau, EarlyStopping\n",
        "from joblib import Parallel, delayed, parallel_backend\n",
        "from tensorflow.keras.backend import clear_session"
      ]
    },
    {
      "cell_type": "markdown",
      "metadata": {
        "id": "8Jt2ZF1KXjg8"
      },
      "source": [
        "# Loading the Data"
      ]
    },
    {
      "cell_type": "code",
      "execution_count": null,
      "metadata": {
        "colab": {
          "base_uri": "https://localhost:8080/",
          "height": 255
        },
        "id": "cRaPjgvKXl-d",
        "outputId": "9a1a5833-1a91-47c3-fd13-766a81a165b3"
      },
      "outputs": [],
      "source": [
        "df = pd.read_csv(\"/content/drive/MyDrive/Major Project/creditcard.csv\")\n",
        "df.head(5)"
      ]
    },
    {
      "cell_type": "markdown",
      "metadata": {
        "id": "H5lcPQugX_y7"
      },
      "source": [
        "# Scaling the Amount and Time"
      ]
    },
    {
      "cell_type": "code",
      "execution_count": null,
      "metadata": {
        "id": "-nYs1NndahMB"
      },
      "outputs": [],
      "source": [
        "df[['Scaled_Time', 'Scaled_Amount']] = StandardScaler().fit_transform(df[['Time', 'Amount']])\n",
        "df = df.drop(['Time', 'Amount'], axis=1)"
      ]
    },
    {
      "cell_type": "code",
      "execution_count": null,
      "metadata": {
        "id": "dCSgFKqraj1T"
      },
      "outputs": [],
      "source": [
        "X = df.drop(['Class'], axis=1)\n",
        "y = df['Class']"
      ]
    },
    {
      "cell_type": "markdown",
      "metadata": {
        "id": "xjHyuJi-amM5"
      },
      "source": [
        "# Splitting the Dataset into Train and Test Set"
      ]
    },
    {
      "cell_type": "code",
      "execution_count": null,
      "metadata": {
        "id": "wnZC75Jvayr4"
      },
      "outputs": [],
      "source": [
        "X_train, X_test, y_train, y_test = train_test_split(X, y, test_size=.2, random_state=42)"
      ]
    },
    {
      "cell_type": "code",
      "execution_count": null,
      "metadata": {
        "colab": {
          "base_uri": "https://localhost:8080/"
        },
        "id": "7ZRxoY3vga9h",
        "outputId": "4ef10ab3-d7ba-4dda-ac2f-f02afc1b9755"
      },
      "outputs": [],
      "source": [
        "len(X_train)"
      ]
    },
    {
      "cell_type": "code",
      "execution_count": null,
      "metadata": {
        "colab": {
          "base_uri": "https://localhost:8080/"
        },
        "id": "CaAxM2EMgl9y",
        "outputId": "3f4f7455-3fa6-4c08-968e-656942824fbd"
      },
      "outputs": [],
      "source": [
        "len(X_test)"
      ]
    },
    {
      "cell_type": "markdown",
      "metadata": {
        "id": "t1-6v4Y4a2nt"
      },
      "source": [
        "# Creation of CNN"
      ]
    },
    {
      "cell_type": "code",
      "execution_count": null,
      "metadata": {
        "id": "DZS54H8wa5r1"
      },
      "outputs": [],
      "source": [
        "def create_cnn():\n",
        "    model = keras.Sequential([\n",
        "        layers.Input(shape=(X_train.shape[1], 1)),\n",
        "        layers.Conv1D(filters=16, kernel_size=3, activation='relu', padding='same'),\n",
        "        layers.MaxPooling1D(pool_size=2),\n",
        "        layers.Conv1D(filters=32, kernel_size=3, activation='relu', padding='same'),\n",
        "        layers.MaxPooling1D(pool_size=2),\n",
        "        layers.Conv1D(filters=64, kernel_size=3, activation='relu', padding='same'),\n",
        "        layers.GlobalMaxPooling1D(),\n",
        "        layers.Dense(128, activation='relu'),\n",
        "        layers.Dropout(0.3),\n",
        "        layers.Dense(64, activation='relu'),\n",
        "        layers.Dense(1, activation='sigmoid')\n",
        "    ])\n",
        "    model.compile(optimizer=keras.optimizers.AdamW(learning_rate=0.001,weight_decay=1e-5),\n",
        "                  loss='binary_crossentropy',\n",
        "                  metrics=['accuracy'])\n",
        "    return model"
      ]
    },
    {
      "cell_type": "markdown",
      "metadata": {
        "id": "fhauTOtucTRm"
      },
      "source": [
        "# Training the CNN Model"
      ]
    },
    {
      "cell_type": "code",
      "execution_count": null,
      "metadata": {
        "colab": {
          "base_uri": "https://localhost:8080/"
        },
        "id": "17XV6-IycZJ7",
        "outputId": "e0b3cd2d-669b-44e2-d8dd-96672bac6e9e"
      },
      "outputs": [],
      "source": [
        "# Create the CNN model\n",
        "cnn_model = create_cnn()\n",
        "\n",
        "# Callbacks: Early stopping and learning rate reduction\n",
        "early_stopping = EarlyStopping(monitor='val_loss', patience=3, restore_best_weights=True)\n",
        "lr_scheduler = ReduceLROnPlateau(monitor='val_loss', factor=0.5, patience=2, min_lr=1e-6)\n",
        "\n",
        "# Train the CNN model\n",
        "history = cnn_model.fit(\n",
        "    X_train, y_train,\n",
        "    validation_split=0.1,\n",
        "    epochs=10,\n",
        "    batch_size=32,\n",
        "    callbacks=[early_stopping, lr_scheduler],\n",
        "    verbose=1\n",
        ")"
      ]
    },
    {
      "cell_type": "markdown",
      "metadata": {
        "id": "6-6URCsYcbrd"
      },
      "source": [
        "# Predicting and Evaluating the CNN Model"
      ]
    },
    {
      "cell_type": "code",
      "execution_count": null,
      "metadata": {
        "colab": {
          "base_uri": "https://localhost:8080/"
        },
        "id": "oXQv1b_LchaB",
        "outputId": "c5511ee7-8124-43b8-a93a-57091d5de437"
      },
      "outputs": [],
      "source": [
        "y_predicted = (cnn_model.predict(X_test) > 0.5).astype(int)\n",
        "report=classification_report(y_test, y_predicted)\n",
        "print('Classification report:\\n', classification_report(y_test, y_predicted))\n",
        "cm = confusion_matrix(y_true=y_test, y_pred=y_predicted)\n",
        "print('Confusion matrix:\\n', cm)\n",
        "accuracy=accuracy_score(y_test, y_predicted)\n",
        "print('Accuracy:', accuracy_score(y_test, y_predicted))\n",
        "precision = precision_score(y_test, y_predicted, pos_label=1.0)\n",
        "print('precision : ',precision)\n",
        "recall = recall_score(y_test, y_predicted, pos_label=1.0)\n",
        "print('recall rate : ',recall)"
      ]
    },
    {
      "cell_type": "markdown",
      "metadata": {
        "id": "4Lslnm-MAmL2"
      },
      "source": [
        "# Saving the Model"
      ]
    },
    {
      "cell_type": "code",
      "execution_count": null,
      "metadata": {
        "colab": {
          "base_uri": "https://localhost:8080/",
          "height": 616
        },
        "id": "iJckRAS1AqDk",
        "outputId": "7d8b4a65-db9f-47d0-ddb4-752f51778bde"
      },
      "outputs": [],
      "source": [
        "import os\n",
        "import seaborn as sns\n",
        "# Output Directory\n",
        "output_path = \"/content/drive/MyDrive/Major Project/Model_Outputs\"\n",
        "os.makedirs(output_path, exist_ok=True)\n",
        "\n",
        "# Save model\n",
        "model_save_path = os.path.join(output_path, \"cnn_ns_model.keras\")\n",
        "cnn_model.save(model_save_path)\n",
        "print(f\"Model saved at: {model_save_path}\")\n",
        "\n",
        "# Save classification report and confusion matrix\n",
        "metrics_path = os.path.join(output_path, \"cnn_ns_model_metrics.txt\")\n",
        "with open(metrics_path, \"w\") as f:\n",
        "    f.write(\"Classification Report:\\n\")\n",
        "    f.write(report)\n",
        "    f.write(\"\\nConfusion Matrix:\\n\")\n",
        "    f.write(str(cm))\n",
        "    f.write(f\"\\nAccuracy: {accuracy:.4f}\")\n",
        "    f.write(f\"\\nPrecision: {precision:.4f}\")\n",
        "    f.write(f\"\\nRecall: {recall:.4f}\")\n",
        "print(f\"Metrics saved at: {metrics_path}\")\n",
        "\n",
        "# Save confusion matrix plot\n",
        "plt.figure(figsize=(8, 6))\n",
        "sns.heatmap(cm, annot=True, fmt='d', cmap='Blues')\n",
        "plt.title('Confusion Matrix')\n",
        "plt.xlabel('Predicted')\n",
        "plt.ylabel('Actual')\n",
        "plt.show()\n",
        "conf_matrix_path = os.path.join(output_path, \"cnn_ns_confusion_matrix.png\")\n",
        "plt.savefig(conf_matrix_path)\n",
        "plt.close()\n",
        "print(f\"Confusion matrix plot saved at: {conf_matrix_path}\")"
      ]
    },
    {
      "cell_type": "markdown",
      "metadata": {
        "id": "Tz6zQFmhhAXu"
      },
      "source": [
        "# Loading the Saved Model"
      ]
    },
    {
      "cell_type": "code",
      "execution_count": null,
      "metadata": {
        "colab": {
          "base_uri": "https://localhost:8080/",
          "height": 1000
        },
        "id": "daBZzdpXg_9m",
        "outputId": "678c3091-34cb-484b-f497-7ad192730b70"
      },
      "outputs": [],
      "source": [
        "import joblib\n",
        "from joblib import load\n",
        "import os\n",
        "from sklearn.metrics import classification_report, confusion_matrix, accuracy_score,precision_score,recall_score, roc_auc_score,roc_curve,precision_recall_curve,auc,roc_curve,f1_score\n",
        "import matplotlib.pyplot as plt\n",
        "import seaborn as sns\n",
        "from tensorflow.keras.models import load_model\n",
        "\n",
        "# Path to load the saved model\n",
        "model_load_path = \"/content/drive/MyDrive/Major Project/Model_Outputs/cnn_ns_model.keras\"\n",
        "\n",
        "# Load the CNN model\n",
        "cnn_model_loaded = load_model(model_load_path)\n",
        "\n",
        "# Predict on test data\n",
        "y_pred_prob = cnn_model_loaded.predict(X_test)\n",
        "y_pred_test = (y_pred_prob > 0.5).astype(int)\n",
        "\n",
        "# Metrics: Precision, Recall, F1-Score\n",
        "precision = precision_score(y_test, y_pred_test)\n",
        "recall = recall_score(y_test, y_pred_test)\n",
        "f1 = f1_score(y_test, y_pred_test)\n",
        "accuracy = accuracy_score(y_test, y_pred_test)\n",
        "\n",
        "print(f\"Accuracy: {accuracy:.3f}\")\n",
        "print(f\"Precision: {precision:.3f}\")\n",
        "print(f\"Recall: {recall:.3f}\")\n",
        "print(f\"F1-Score: {f1:.3f}\")\n",
        "\n",
        "# Classification Report and Confusion Matrix\n",
        "report = classification_report(y_test, y_pred_test)\n",
        "print(\"\\nClassification Report:\\n\", report)\n",
        "\n",
        "cm = confusion_matrix(y_test, y_pred_test)\n",
        "print(\"\\nConfusion Matrix:\\n\", cm)\n",
        "\n",
        "# Plot Confusion Matrix\n",
        "plt.figure(figsize=(8, 6))\n",
        "sns.heatmap(cm, annot=True, fmt=\"d\", cmap=\"Blues\")\n",
        "plt.title(\"Confusion Matrix\")\n",
        "plt.xlabel(\"Predicted\")\n",
        "plt.ylabel(\"Actual\")\n",
        "plt.show()\n",
        "\n",
        "# AUC-ROC Curve\n",
        "fpr, tpr, _ = roc_curve(y_test, y_pred_prob)\n",
        "roc_auc = auc(fpr, tpr)\n",
        "\n",
        "plt.figure(figsize=(8, 6))\n",
        "plt.plot(fpr, tpr, color=\"darkorange\", label=f\"ROC Curve (AUC = {roc_auc:.3f})\")\n",
        "plt.title(\"AUC-ROC Curve\")\n",
        "plt.xlabel(\"False Positive Rate\")\n",
        "plt.ylabel(\"True Positive Rate\")\n",
        "plt.legend(loc=\"lower right\")\n",
        "plt.grid()\n",
        "plt.show()\n",
        "\n",
        "# AUC-PRC Curve\n",
        "precision_pr, recall_pr, _ = precision_recall_curve(y_test, y_pred_prob)\n",
        "pr_auc = auc(recall_pr, precision_pr)\n",
        "\n",
        "plt.figure(figsize=(8, 6))\n",
        "plt.plot(recall_pr, precision_pr, color=\"purple\", lw=2, label=f\"PR Curve (AUC = {pr_auc:.3f})\")\n",
        "plt.title(\"AUC-PRC Curve\")\n",
        "plt.xlabel(\"Recall\")\n",
        "plt.ylabel(\"Precision\")\n",
        "plt.legend(loc=\"lower left\")\n",
        "plt.grid()\n",
        "plt.show()"
      ]
    }
  ],
  "metadata": {
    "colab": {
      "provenance": []
    },
    "kernelspec": {
      "display_name": "Python 3",
      "name": "python3"
    },
    "language_info": {
      "name": "python"
    }
  },
  "nbformat": 4,
  "nbformat_minor": 0
}
