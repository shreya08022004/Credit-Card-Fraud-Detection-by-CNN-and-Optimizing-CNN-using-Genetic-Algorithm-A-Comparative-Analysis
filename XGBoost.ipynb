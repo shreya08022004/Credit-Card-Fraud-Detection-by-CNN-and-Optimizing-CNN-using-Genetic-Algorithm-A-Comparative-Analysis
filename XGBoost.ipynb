{
  "cells": [
    {
      "cell_type": "code",
      "execution_count": null,
      "metadata": {
        "colab": {
          "base_uri": "https://localhost:8080/"
        },
        "id": "tz5H2-eLMQrb",
        "outputId": "c260d08d-a1b0-4e29-c636-1a33483486a0"
      },
      "outputs": [],
      "source": [
        "from google.colab import drive\n",
        "drive.mount('/content/drive')"
      ]
    },
    {
      "cell_type": "code",
      "execution_count": null,
      "metadata": {
        "colab": {
          "base_uri": "https://localhost:8080/",
          "height": 802
        },
        "id": "c7g0pH09isng",
        "outputId": "c6232ec7-16f5-45dc-d8f2-1ac6b1731799"
      },
      "outputs": [],
      "source": [
        "!pip install scikit-learn==1.0.2\n",
        "!pip install imbalanced-learn==0.8.0"
      ]
    },
    {
      "cell_type": "markdown",
      "metadata": {
        "id": "VmerH-cMMcMn"
      },
      "source": [
        "# Loading the Libraries"
      ]
    },
    {
      "cell_type": "code",
      "execution_count": null,
      "metadata": {
        "id": "nt5_OaXgMbxg"
      },
      "outputs": [],
      "source": [
        "import numpy as np\n",
        "import pandas as pd\n",
        "import matplotlib.pyplot as plt\n",
        "from sklearn.model_selection import train_test_split\n",
        "from sklearn.preprocessing import StandardScaler\n",
        "from sklearn.ensemble import IsolationForest\n",
        "from imblearn.over_sampling import SMOTE\n",
        "from sklearn.metrics import classification_report, confusion_matrix, accuracy_score,precision_score,recall_score\n",
        "import random\n",
        "import tensorflow as tf\n",
        "from tensorflow import keras\n",
        "from tensorflow.keras import layers\n",
        "from tensorflow.keras.callbacks import ReduceLROnPlateau, EarlyStopping\n",
        "from joblib import Parallel, delayed, parallel_backend\n",
        "from tensorflow.keras.backend import clear_session\n",
        "from xgboost import XGBClassifier"
      ]
    },
    {
      "cell_type": "markdown",
      "metadata": {
        "id": "LF1b2CTAMkcR"
      },
      "source": [
        "# Load the Data"
      ]
    },
    {
      "cell_type": "code",
      "execution_count": null,
      "metadata": {
        "colab": {
          "base_uri": "https://localhost:8080/",
          "height": 255
        },
        "id": "UbY0ucL0Ml_e",
        "outputId": "48c613b6-84e7-4620-b6e8-a60b0e15888a"
      },
      "outputs": [],
      "source": [
        "df = pd.read_csv(\"/content/drive/MyDrive/Major Project/creditcard.csv\")\n",
        "df.head(5)"
      ]
    },
    {
      "cell_type": "markdown",
      "metadata": {
        "id": "0vh1ZnwKMrdR"
      },
      "source": [
        "# Scaling Amount and Time"
      ]
    },
    {
      "cell_type": "code",
      "execution_count": null,
      "metadata": {
        "id": "uH_t7wYOMuIn"
      },
      "outputs": [],
      "source": [
        "df[['Scaled_Time', 'Scaled_Amount']] = StandardScaler().fit_transform(df[['Time', 'Amount']])\n",
        "df = df.drop(['Time', 'Amount'], axis=1)"
      ]
    },
    {
      "cell_type": "code",
      "execution_count": null,
      "metadata": {
        "id": "Zx1hyNKPN2gT"
      },
      "outputs": [],
      "source": [
        "X = df.drop(['Class'], axis=1)\n",
        "y = df['Class']"
      ]
    },
    {
      "cell_type": "markdown",
      "metadata": {
        "id": "iR8dzDCrMz5H"
      },
      "source": [
        "# Splitting the Dataset"
      ]
    },
    {
      "cell_type": "code",
      "execution_count": null,
      "metadata": {
        "id": "t72JM8SkM2E-"
      },
      "outputs": [],
      "source": [
        "X_train, X_test, y_train, y_test = train_test_split(X, y, test_size=.2, random_state=42)"
      ]
    },
    {
      "cell_type": "markdown",
      "metadata": {
        "id": "3c3qRA1HM5Bw"
      },
      "source": [
        "# Training the XGBoost Model"
      ]
    },
    {
      "cell_type": "code",
      "execution_count": null,
      "metadata": {
        "colab": {
          "base_uri": "https://localhost:8080/"
        },
        "id": "Xu5ezWDPM8A4",
        "outputId": "640df990-e145-4489-f6e3-5d159d546b01"
      },
      "outputs": [],
      "source": [
        "xgb_model = XGBClassifier(\n",
        "    objective='binary:logistic',\n",
        "    eval_metric='logloss',\n",
        "    use_label_encoder=False,\n",
        "    n_estimators=100,  # Number of trees\n",
        "    learning_rate=0.1,  # Learning rate\n",
        "    max_depth=6,  # Maximum depth of the trees\n",
        "    subsample=0.8,  # Subsampling ratio\n",
        "    colsample_bytree=0.8,  # Feature subsampling ratio\n",
        "    random_state=42\n",
        ")\n",
        "\n",
        "xgb_model.fit(X_train, y_train)"
      ]
    },
    {
      "cell_type": "markdown",
      "metadata": {
        "id": "o97gBRNpNDfD"
      },
      "source": [
        "# Predicting the Vlaues and Evaluation"
      ]
    },
    {
      "cell_type": "code",
      "execution_count": null,
      "metadata": {
        "colab": {
          "base_uri": "https://localhost:8080/"
        },
        "id": "oa0E1oPKNIDR",
        "outputId": "aac89feb-6cf5-499a-ea4a-2c058c4c353c"
      },
      "outputs": [],
      "source": [
        "y_predicted = xgb_model.predict(X_test)\n",
        "print('Classification report:\\n', classification_report(y_test, y_predicted))\n",
        "cm = confusion_matrix(y_true=y_test, y_pred=y_predicted)\n",
        "print('Confusion matrix:\\n', cm)\n",
        "print('Accuracy:', accuracy_score(y_test, y_predicted))\n",
        "precision = precision_score(y_test, y_predicted, pos_label=1.0)\n",
        "print('precision : ',precision)\n",
        "recall = recall_score(y_test, y_predicted, pos_label=1.0)\n",
        "print('recall rate : ',recall)"
      ]
    },
    {
      "cell_type": "markdown",
      "metadata": {
        "id": "gERavs5iNMN6"
      },
      "source": [
        "# Saving the Model and Metrics"
      ]
    },
    {
      "cell_type": "code",
      "execution_count": null,
      "metadata": {
        "colab": {
          "base_uri": "https://localhost:8080/",
          "height": 618
        },
        "id": "GTtJN7HfNQSl",
        "outputId": "288a4bb7-613b-4a01-8f59-6e77365a02db"
      },
      "outputs": [],
      "source": [
        "import os\n",
        "import seaborn as sns\n",
        "output_path = \"/content/drive/MyDrive/Major Project/Model_Outputs\"\n",
        "os.makedirs(output_path, exist_ok=True)\n",
        "\n",
        "# Saving the classification report and confusion matrix\n",
        "report = classification_report(y_test, y_predicted)\n",
        "cm = confusion_matrix(y_true=y_test, y_pred=y_predicted)\n",
        "accuracy = accuracy_score(y_test, y_predicted)\n",
        "precision = precision_score(y_test, y_predicted)\n",
        "recall = recall_score(y_test, y_predicted)\n",
        "\n",
        "# Save metrics\n",
        "metrics_file = os.path.join(output_path, \"xgboost_ns_metrics.txt\")\n",
        "with open(metrics_file, \"w\") as f:\n",
        "    f.write(\"Classification Report:\\n\")\n",
        "    f.write(report)\n",
        "    f.write(\"\\nConfusion Matrix:\\n\")\n",
        "    f.write(str(cm))\n",
        "    f.write(f\"\\nAccuracy: {accuracy:.4f}\")\n",
        "    f.write(f\"\\nPrecision: {precision:.4f}\")\n",
        "    f.write(f\"\\nRecall: {recall:.4f}\")\n",
        "print(f\"Metrics saved at: {metrics_file}\")\n",
        "\n",
        "# Save confusion matrix plot\n",
        "plt.figure(figsize=(8, 6))\n",
        "sns.heatmap(cm, annot=True, fmt='d', cmap='Blues')\n",
        "plt.title('Confusion Matrix')\n",
        "plt.xlabel('Predicted')\n",
        "plt.ylabel('Actual')\n",
        "plt.show()\n",
        "conf_matrix_plot_path = os.path.join(output_path, \"xgboost_ns_confusion_matrix.png\")\n",
        "plt.savefig(conf_matrix_plot_path)\n",
        "plt.close()\n",
        "print(f\"Confusion matrix plot saved at: {conf_matrix_plot_path}\")\n",
        "\n",
        "# Save the XGBoost model\n",
        "model_save_path = os.path.join(output_path, \"xgboost_ns_model.json\")\n",
        "xgb_model.save_model(model_save_path)\n",
        "print(f\"Model saved at: {model_save_path}\")"
      ]
    },
    {
      "cell_type": "markdown",
      "metadata": {
        "id": "WL83bV-IiFua"
      },
      "source": [
        "#Loading the Saved Model"
      ]
    },
    {
      "cell_type": "code",
      "execution_count": null,
      "metadata": {
        "colab": {
          "base_uri": "https://localhost:8080/",
          "height": 1000
        },
        "id": "haGXi8HKiH08",
        "outputId": "e4312d82-c843-441d-e845-8d411a16ff8e"
      },
      "outputs": [],
      "source": [
        "import joblib\n",
        "import os\n",
        "from sklearn.metrics import classification_report, confusion_matrix, accuracy_score,precision_score,recall_score, roc_auc_score,roc_curve,precision_recall_curve,auc,roc_curve,f1_score\n",
        "import matplotlib.pyplot as plt\n",
        "import seaborn as sns\n",
        "\n",
        "# Load the saved XGBoost model\n",
        "loaded_xgb_model = XGBClassifier()\n",
        "model_save_path = \"/content/drive/MyDrive/Major Project/Model_Outputs/xgboost_ns_model.json\"\n",
        "loaded_xgb_model.load_model(model_save_path)\n",
        "\n",
        "# Use the loaded model for predictions\n",
        "y_loaded_predicted = loaded_xgb_model.predict(X_test)\n",
        "y_loaded_probabilities = loaded_xgb_model.predict_proba(X_test)[:, 1]  # Probability for the positive class (1)\n",
        "\n",
        "# Evaluate the loaded model\n",
        "cr=classification_report(y_test, y_loaded_predicted)\n",
        "print('Classification report:\\n', cr)\n",
        "cm_loaded = confusion_matrix(y_true=y_test, y_pred=y_loaded_predicted)\n",
        "print('Confusion matrix:\\n', cm_loaded)\n",
        "accuracy=accuracy_score(y_test, y_loaded_predicted)\n",
        "recall=recall_score(y_test, y_loaded_predicted)\n",
        "precision=precision_score(y_test, y_loaded_predicted)\n",
        "f1=f1_score(y_test, y_loaded_predicted)\n",
        "print(f\"Accuracy: {accuracy:.3f}\")\n",
        "print(f\"Precision: {precision:.3f}\")\n",
        "print(f\"Recall: {recall:.3f}\")\n",
        "print(f\"F1-Score: {f1:.3f}\")\n",
        "\n",
        "# ROC Curve and AUC-ROC\n",
        "fpr, tpr, _ = roc_curve(y_test, y_loaded_probabilities)\n",
        "auc_roc = auc(fpr, tpr)\n",
        "\n",
        "plt.figure(figsize=(8, 6))\n",
        "plt.plot(fpr, tpr, label=f\"ROC AUC = {auc_roc:.3f}\", color=\"red\")\n",
        "plt.title(\"Receiver Operating Characteristic (ROC) Curve\")\n",
        "plt.xlabel(\"False Positive Rate\")\n",
        "plt.ylabel(\"True Positive Rate\")\n",
        "plt.legend(loc=\"best\")\n",
        "plt.grid()\n",
        "plt.show()\n",
        "\n",
        "# Precision-Recall Curve and AUC-PRC\n",
        "precision, recall, _ = precision_recall_curve(y_test, y_loaded_probabilities)\n",
        "auc_prc = auc(recall, precision)\n",
        "\n",
        "plt.figure(figsize=(8, 6))\n",
        "plt.plot(recall, precision, label=f\"PRC AUC = {auc_prc:.3f}\", color=\"blue\")\n",
        "plt.title(\"Precision-Recall Curve\")\n",
        "plt.xlabel(\"Recall\")\n",
        "plt.ylabel(\"Precision\")\n",
        "plt.legend(loc=\"best\")\n",
        "plt.grid()\n",
        "plt.show()\n",
        "\n",
        "plt.figure(figsize=(8, 6))\n",
        "sns.heatmap(cm_loaded, annot=True, fmt='d', cmap='Blues')\n",
        "plt.title('Confusion Matrix')\n",
        "plt.xlabel('Predicted')\n",
        "plt.ylabel('Actual')\n",
        "plt.show()\n",
        "conf_matrix_path = os.path.join(output_path, 'confusion_matrix_iso.png')\n",
        "plt.savefig(conf_matrix_path)\n",
        "plt.close()"
      ]
    }
  ],
  "metadata": {
    "colab": {
      "provenance": []
    },
    "kernelspec": {
      "display_name": "Python 3",
      "name": "python3"
    },
    "language_info": {
      "name": "python"
    }
  },
  "nbformat": 4,
  "nbformat_minor": 0
}
