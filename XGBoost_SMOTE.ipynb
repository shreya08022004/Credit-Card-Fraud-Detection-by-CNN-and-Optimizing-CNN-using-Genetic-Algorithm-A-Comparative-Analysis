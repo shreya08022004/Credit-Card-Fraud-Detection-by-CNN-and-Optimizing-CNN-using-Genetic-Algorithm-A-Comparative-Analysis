{
  "cells": [
    {
      "cell_type": "code",
      "execution_count": null,
      "metadata": {
        "colab": {
          "base_uri": "https://localhost:8080/"
        },
        "id": "hI_JHZVOnQgN",
        "outputId": "bf17fc5d-b7b6-45f6-a5f0-46e053fc1e24"
      },
      "outputs": [],
      "source": [
        "from google.colab import drive\n",
        "drive.mount('/content/drive')"
      ]
    },
    {
      "cell_type": "code",
      "execution_count": null,
      "metadata": {
        "colab": {
          "base_uri": "https://localhost:8080/",
          "height": 802
        },
        "id": "fld7Go5T7tC2",
        "outputId": "38d2b09d-a9f4-4350-ca29-ad078c3f959c"
      },
      "outputs": [],
      "source": [
        "!pip install scikit-learn==1.0.2\n",
        "!pip install imbalanced-learn==0.8.0"
      ]
    },
    {
      "cell_type": "markdown",
      "metadata": {
        "id": "Nr0JgAwDoAiJ"
      },
      "source": [
        "# Loading the Libraries"
      ]
    },
    {
      "cell_type": "code",
      "execution_count": null,
      "metadata": {
        "id": "CUN6IXNooC_P"
      },
      "outputs": [],
      "source": [
        "import numpy as np\n",
        "import pandas as pd\n",
        "import matplotlib.pyplot as plt\n",
        "from sklearn.model_selection import train_test_split\n",
        "from sklearn.preprocessing import StandardScaler\n",
        "from sklearn.ensemble import IsolationForest\n",
        "from imblearn.over_sampling import SMOTE\n",
        "from sklearn.metrics import classification_report, confusion_matrix, accuracy_score,precision_score,recall_score\n",
        "import random\n",
        "import tensorflow as tf\n",
        "from tensorflow import keras\n",
        "from tensorflow.keras import layers\n",
        "from tensorflow.keras.callbacks import ReduceLROnPlateau, EarlyStopping\n",
        "from joblib import Parallel, delayed, parallel_backend\n",
        "from tensorflow.keras.backend import clear_session\n",
        "from xgboost import XGBClassifier\n",
        "from imblearn.over_sampling import SMOTE"
      ]
    },
    {
      "cell_type": "markdown",
      "metadata": {
        "id": "S_1FyXDYoTk9"
      },
      "source": [
        "# Load the Data"
      ]
    },
    {
      "cell_type": "code",
      "execution_count": null,
      "metadata": {
        "colab": {
          "base_uri": "https://localhost:8080/",
          "height": 255
        },
        "id": "MoTHPwUfoVkI",
        "outputId": "de47a386-012f-4b6f-c862-e81a747d56bb"
      },
      "outputs": [],
      "source": [
        "df = pd.read_csv(\"/content/drive/MyDrive/Major Project/creditcard.csv\")\n",
        "df.head(5)"
      ]
    },
    {
      "cell_type": "markdown",
      "metadata": {
        "id": "ggjhoF8zoaSc"
      },
      "source": [
        "# Scaling the Amount and Time"
      ]
    },
    {
      "cell_type": "code",
      "execution_count": null,
      "metadata": {
        "id": "wT-_HrgEoeeg"
      },
      "outputs": [],
      "source": [
        "df[['Scaled_Time', 'Scaled_Amount']] = StandardScaler().fit_transform(df[['Time', 'Amount']])\n",
        "df = df.drop(['Time', 'Amount'], axis=1)"
      ]
    },
    {
      "cell_type": "markdown",
      "metadata": {
        "id": "BgdqtST6ohZa"
      },
      "source": [
        "# Handling the Imbalance in the dataset using SMOTE"
      ]
    },
    {
      "cell_type": "code",
      "execution_count": null,
      "metadata": {
        "id": "JTAkuhD3okvu"
      },
      "outputs": [],
      "source": [
        "X = df.drop(['Class'], axis=1)\n",
        "y = df['Class']\n",
        "smote = SMOTE(sampling_strategy=0.2, random_state=42)\n",
        "X_res, y_res = smote.fit_resample(X, y)"
      ]
    },
    {
      "cell_type": "code",
      "execution_count": null,
      "metadata": {
        "colab": {
          "base_uri": "https://localhost:8080/"
        },
        "id": "kygrlexjsXAV",
        "outputId": "015758c2-f909-4dbf-ec4d-2e38c10e604c"
      },
      "outputs": [],
      "source": [
        "len(X_res)"
      ]
    },
    {
      "cell_type": "markdown",
      "metadata": {
        "id": "SFPWKWwVom0A"
      },
      "source": [
        "# Splitting the Dataset into Train and Test Set"
      ]
    },
    {
      "cell_type": "code",
      "execution_count": null,
      "metadata": {
        "id": "NiZ_PVAFoqsd"
      },
      "outputs": [],
      "source": [
        "X_train, X_test, y_train, y_test = train_test_split(X_res, y_res, test_size=.2, random_state=42)"
      ]
    },
    {
      "cell_type": "code",
      "execution_count": null,
      "metadata": {
        "colab": {
          "base_uri": "https://localhost:8080/"
        },
        "id": "_m-VjDtMscTQ",
        "outputId": "3ceda814-39e5-47fa-f863-16725f411ecc"
      },
      "outputs": [],
      "source": [
        "len(X_train)"
      ]
    },
    {
      "cell_type": "code",
      "execution_count": null,
      "metadata": {
        "colab": {
          "base_uri": "https://localhost:8080/"
        },
        "id": "-PihNoSWse1s",
        "outputId": "2194c4ed-d1bd-42de-9e7b-3ad79c7ee82b"
      },
      "outputs": [],
      "source": [
        "len(X_test)"
      ]
    },
    {
      "cell_type": "markdown",
      "metadata": {
        "id": "b41Hb766ouxW"
      },
      "source": [
        "# Training the XGBoost Model"
      ]
    },
    {
      "cell_type": "code",
      "execution_count": null,
      "metadata": {
        "colab": {
          "base_uri": "https://localhost:8080/"
        },
        "id": "CB3fyI3eoxax",
        "outputId": "2e958d6c-251f-4bf4-d9df-95f31049a263"
      },
      "outputs": [],
      "source": [
        "xgb_model = XGBClassifier(\n",
        "    objective='binary:logistic',\n",
        "    eval_metric='logloss',\n",
        "    n_estimators=100,\n",
        "    learning_rate=0.1,\n",
        "    max_depth=6,\n",
        "    subsample=0.8,\n",
        "    colsample_bytree=0.8,\n",
        "    random_state=42,\n",
        "    verbosity=1\n",
        ")\n",
        "\n",
        "# Train the model\n",
        "xgb_model.fit(X_train, y_train)"
      ]
    },
    {
      "cell_type": "markdown",
      "metadata": {
        "id": "9B72e1Q_o8eq"
      },
      "source": [
        "# Predicting the Values and Evaluation"
      ]
    },
    {
      "cell_type": "code",
      "execution_count": null,
      "metadata": {
        "colab": {
          "base_uri": "https://localhost:8080/"
        },
        "id": "Tc-xqEtxpGLu",
        "outputId": "6908125b-76ad-441c-c3e0-125a6d9457ad"
      },
      "outputs": [],
      "source": [
        "y_predicted = xgb_model.predict(X_test)\n",
        "print('Classification report:\\n', classification_report(y_test, y_predicted))\n",
        "cm = confusion_matrix(y_true=y_test, y_pred=y_predicted)\n",
        "print('Confusion matrix:\\n', cm)\n",
        "print('Accuracy:', accuracy_score(y_test, y_predicted))\n",
        "precision = precision_score(y_test, y_predicted, pos_label=1.0)\n",
        "print('precision : ',precision)\n",
        "recall = recall_score(y_test, y_predicted, pos_label=1.0)\n",
        "print('recall rate : ',recall)"
      ]
    },
    {
      "cell_type": "markdown",
      "metadata": {
        "id": "o4DqgvTMpWWT"
      },
      "source": [
        "# Saving the Model and Metrics"
      ]
    },
    {
      "cell_type": "code",
      "execution_count": null,
      "metadata": {
        "colab": {
          "base_uri": "https://localhost:8080/",
          "height": 618
        },
        "id": "pgP9Th4gpYdp",
        "outputId": "f1ea84f3-6418-44a1-c81f-5d0544b7aede"
      },
      "outputs": [],
      "source": [
        "import os\n",
        "import seaborn as sns\n",
        "output_path = \"/content/drive/MyDrive/Major Project/Model_Outputs\"\n",
        "os.makedirs(output_path, exist_ok=True)\n",
        "\n",
        "# Saving the classification report and confusion matrix\n",
        "report = classification_report(y_test, y_predicted)\n",
        "cm = confusion_matrix(y_true=y_test, y_pred=y_predicted)\n",
        "accuracy = accuracy_score(y_test, y_predicted)\n",
        "precision = precision_score(y_test, y_predicted)\n",
        "recall = recall_score(y_test, y_predicted)\n",
        "\n",
        "# Save metrics\n",
        "metrics_file = os.path.join(output_path, \"xgboost_metrics.txt\")\n",
        "with open(metrics_file, \"w\") as f:\n",
        "    f.write(\"Classification Report:\\n\")\n",
        "    f.write(report)\n",
        "    f.write(\"\\nConfusion Matrix:\\n\")\n",
        "    f.write(str(cm))\n",
        "    f.write(f\"\\nAccuracy: {accuracy:.4f}\")\n",
        "    f.write(f\"\\nPrecision: {precision:.4f}\")\n",
        "    f.write(f\"\\nRecall: {recall:.4f}\")\n",
        "print(f\"Metrics saved at: {metrics_file}\")\n",
        "\n",
        "# Save confusion matrix plot\n",
        "plt.figure(figsize=(8, 6))\n",
        "sns.heatmap(cm, annot=True, fmt='d', cmap='Blues')\n",
        "plt.title('Confusion Matrix')\n",
        "plt.xlabel('Predicted')\n",
        "plt.ylabel('Actual')\n",
        "plt.show()\n",
        "conf_matrix_plot_path = os.path.join(output_path, \"xgboost_confusion_matrix.png\")\n",
        "plt.savefig(conf_matrix_plot_path)\n",
        "plt.close()\n",
        "print(f\"Confusion matrix plot saved at: {conf_matrix_plot_path}\")\n",
        "\n",
        "# Save the XGBoost model\n",
        "model_save_path = os.path.join(output_path, \"xgboost_model.json\")\n",
        "xgb_model.save_model(model_save_path)\n",
        "print(f\"Model saved at: {model_save_path}\")"
      ]
    },
    {
      "cell_type": "markdown",
      "metadata": {
        "id": "sIxD12MasSJO"
      },
      "source": [
        "# Loading the Model"
      ]
    },
    {
      "cell_type": "code",
      "execution_count": null,
      "metadata": {
        "colab": {
          "base_uri": "https://localhost:8080/",
          "height": 1000
        },
        "id": "JIBrrERPsWWr",
        "outputId": "884a255c-9df5-4df8-ad9b-a02e2bdc713f"
      },
      "outputs": [],
      "source": [
        "import joblib\n",
        "import os\n",
        "from sklearn.metrics import classification_report, confusion_matrix, accuracy_score,precision_score,recall_score, roc_auc_score,roc_curve,precision_recall_curve,auc,roc_curve,f1_score\n",
        "import matplotlib.pyplot as plt\n",
        "import seaborn as sns\n",
        "\n",
        "# Load the saved XGBoost model\n",
        "loaded_xgb_model = XGBClassifier()\n",
        "model_save_path = \"/content/drive/MyDrive/Major Project/Model_Outputs/xgboost_model.json\"\n",
        "loaded_xgb_model.load_model(model_save_path)\n",
        "\n",
        "# Use the loaded model for predictions\n",
        "y_loaded_predicted = loaded_xgb_model.predict(X_test)\n",
        "y_loaded_probabilities = loaded_xgb_model.predict_proba(X_test)[:, 1]  # Probability for the positive class (1)\n",
        "\n",
        "# Evaluate the loaded model\n",
        "cr=classification_report(y_test, y_loaded_predicted)\n",
        "print('Classification report:\\n', cr)\n",
        "cm_loaded = confusion_matrix(y_true=y_test, y_pred=y_loaded_predicted)\n",
        "print('Confusion matrix:\\n', cm_loaded)\n",
        "accuracy=accuracy_score(y_test, y_loaded_predicted)\n",
        "recall=recall_score(y_test, y_loaded_predicted)\n",
        "precision=precision_score(y_test, y_loaded_predicted)\n",
        "f1=f1_score(y_test, y_loaded_predicted)\n",
        "print(f\"Accuracy: {accuracy:.3f}\")\n",
        "print(f\"Precision: {precision:.3f}\")\n",
        "print(f\"Recall: {recall:.3f}\")\n",
        "print(f\"F1-Score: {f1:.3f}\")\n",
        "\n",
        "# ROC Curve and AUC-ROC\n",
        "fpr, tpr, _ = roc_curve(y_test, y_loaded_probabilities)\n",
        "auc_roc = auc(fpr, tpr)\n",
        "\n",
        "plt.figure(figsize=(8, 6))\n",
        "plt.plot(fpr, tpr, label=f\"ROC AUC = {auc_roc:.3f}\", color=\"red\")\n",
        "plt.title(\"Receiver Operating Characteristic (ROC) Curve\")\n",
        "plt.xlabel(\"False Positive Rate\")\n",
        "plt.ylabel(\"True Positive Rate\")\n",
        "plt.legend(loc=\"best\")\n",
        "plt.grid()\n",
        "plt.show()\n",
        "\n",
        "# Precision-Recall Curve and AUC-PRC\n",
        "precision, recall, _ = precision_recall_curve(y_test, y_loaded_probabilities)\n",
        "auc_prc = auc(recall, precision)\n",
        "\n",
        "plt.figure(figsize=(8, 6))\n",
        "plt.plot(recall, precision, label=f\"PRC AUC = {auc_prc:.3f}\", color=\"blue\")\n",
        "plt.title(\"Precision-Recall Curve\")\n",
        "plt.xlabel(\"Recall\")\n",
        "plt.ylabel(\"Precision\")\n",
        "plt.legend(loc=\"best\")\n",
        "plt.grid()\n",
        "plt.show()\n",
        "\n",
        "plt.figure(figsize=(8, 6))\n",
        "sns.heatmap(cm_loaded, annot=True, fmt='d', cmap='Blues')\n",
        "plt.title('Confusion Matrix')\n",
        "plt.xlabel('Predicted')\n",
        "plt.ylabel('Actual')\n",
        "plt.show()\n",
        "conf_matrix_path = os.path.join(output_path, 'confusion_matrix_iso.png')\n",
        "plt.savefig(conf_matrix_path)\n",
        "plt.close()"
      ]
    }
  ],
  "metadata": {
    "colab": {
      "provenance": []
    },
    "kernelspec": {
      "display_name": "Python 3",
      "name": "python3"
    },
    "language_info": {
      "name": "python"
    }
  },
  "nbformat": 4,
  "nbformat_minor": 0
}
