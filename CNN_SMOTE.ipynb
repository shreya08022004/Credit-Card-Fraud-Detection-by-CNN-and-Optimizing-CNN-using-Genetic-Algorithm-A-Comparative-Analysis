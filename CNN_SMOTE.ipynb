{
  "cells": [
    {
      "cell_type": "code",
      "execution_count": null,
      "metadata": {
        "colab": {
          "base_uri": "https://localhost:8080/"
        },
        "id": "MQJyjQsiM47l",
        "outputId": "72ec339b-8be5-4515-e530-11759e517730"
      },
      "outputs": [],
      "source": [
        "from google.colab import drive\n",
        "drive.mount('/content/drive')"
      ]
    },
    {
      "cell_type": "markdown",
      "metadata": {
        "id": "TVwrtGkFnWRp"
      },
      "source": [
        "# Loading the Libraries"
      ]
    },
    {
      "cell_type": "code",
      "execution_count": null,
      "metadata": {
        "id": "9uqI7LsbNAmT"
      },
      "outputs": [],
      "source": [
        "import numpy as np\n",
        "import pandas as pd\n",
        "import matplotlib.pyplot as plt\n",
        "from sklearn.model_selection import train_test_split\n",
        "from sklearn.preprocessing import StandardScaler\n",
        "from imblearn.over_sampling import SMOTE\n",
        "from sklearn.metrics import classification_report, confusion_matrix, accuracy_score,precision_score,recall_score\n",
        "import random\n",
        "import tensorflow as tf\n",
        "from tensorflow import keras\n",
        "from tensorflow.keras import layers\n",
        "from tensorflow.keras.callbacks import ReduceLROnPlateau, EarlyStopping\n",
        "from joblib import Parallel, delayed, parallel_backend\n",
        "from tensorflow.keras.backend import clear_session"
      ]
    },
    {
      "cell_type": "markdown",
      "metadata": {
        "id": "wPHseNGEncuB"
      },
      "source": [
        "# Loading the Data"
      ]
    },
    {
      "cell_type": "code",
      "execution_count": null,
      "metadata": {
        "colab": {
          "base_uri": "https://localhost:8080/",
          "height": 255
        },
        "id": "6ZiZLbU9NDl0",
        "outputId": "e3dca307-5552-422d-b717-ace15388881a"
      },
      "outputs": [],
      "source": [
        "df = pd.read_csv(\"/content/drive/MyDrive/Major Project/creditcard.csv\")\n",
        "df.head(5)"
      ]
    },
    {
      "cell_type": "markdown",
      "metadata": {
        "id": "wrhRiOp7nfQa"
      },
      "source": [
        "# Scaling the Amount and Time"
      ]
    },
    {
      "cell_type": "code",
      "execution_count": null,
      "metadata": {
        "id": "VZ1dG5gTNGzW"
      },
      "outputs": [],
      "source": [
        "df[['Scaled_Time', 'Scaled_Amount']] = StandardScaler().fit_transform(df[['Time', 'Amount']])\n",
        "df = df.drop(['Time', 'Amount'], axis=1)"
      ]
    },
    {
      "cell_type": "markdown",
      "metadata": {
        "id": "uC5bmLNjniFU"
      },
      "source": [
        "# Handling the Imbalance in data using SMOTE"
      ]
    },
    {
      "cell_type": "code",
      "execution_count": null,
      "metadata": {
        "colab": {
          "base_uri": "https://localhost:8080/"
        },
        "id": "Tcs-uoTtNJty",
        "outputId": "37ba81fb-47ad-4b0d-a121-1691017edd30"
      },
      "outputs": [],
      "source": [
        "X = df.drop(['Class'], axis=1)\n",
        "y = df['Class']\n",
        "smote = SMOTE(sampling_strategy=0.2, random_state=42)\n",
        "X_res, y_res = smote.fit_resample(X, y)"
      ]
    },
    {
      "cell_type": "code",
      "execution_count": null,
      "metadata": {
        "colab": {
          "base_uri": "https://localhost:8080/"
        },
        "id": "4LIc2bpDr7UU",
        "outputId": "e724b6fa-c8ef-48ef-f864-09b01d6cadb5"
      },
      "outputs": [],
      "source": [
        "len(X_res)"
      ]
    },
    {
      "cell_type": "markdown",
      "metadata": {
        "id": "r-pV9IPdnlEG"
      },
      "source": [
        "# Reshaping the data for using in CNN"
      ]
    },
    {
      "cell_type": "code",
      "execution_count": null,
      "metadata": {
        "id": "Z9O9cmNsNN4j"
      },
      "outputs": [],
      "source": [
        "X_res = X_res.values.reshape((X_res.shape[0], X_res.shape[1], 1))"
      ]
    },
    {
      "cell_type": "markdown",
      "metadata": {
        "id": "pRdbL4MlnpVP"
      },
      "source": [
        "# Splitting the Dataset into Train and Test Set"
      ]
    },
    {
      "cell_type": "code",
      "execution_count": null,
      "metadata": {
        "id": "EmhXynf7NQ2M"
      },
      "outputs": [],
      "source": [
        "X_train, X_test, y_train, y_test = train_test_split(X_res, y_res, test_size=.2, random_state=42)"
      ]
    },
    {
      "cell_type": "code",
      "execution_count": null,
      "metadata": {
        "colab": {
          "base_uri": "https://localhost:8080/"
        },
        "id": "ZcbiMq-BsB3x",
        "outputId": "f27c7b9f-1c02-4c65-87b9-31580d68d1d8"
      },
      "outputs": [],
      "source": [
        "len(X_train)"
      ]
    },
    {
      "cell_type": "code",
      "execution_count": null,
      "metadata": {
        "colab": {
          "base_uri": "https://localhost:8080/"
        },
        "id": "NaHiRGvcsFV_",
        "outputId": "84f77766-d667-4feb-9bb3-0b5f66ca52c2"
      },
      "outputs": [],
      "source": [
        "len(X_test)"
      ]
    },
    {
      "cell_type": "markdown",
      "metadata": {
        "id": "_aBjJlyans30"
      },
      "source": [
        "# Creation of CNN"
      ]
    },
    {
      "cell_type": "code",
      "execution_count": null,
      "metadata": {
        "id": "WeLoQglyNUBY"
      },
      "outputs": [],
      "source": [
        "def create_cnn():\n",
        "    model = keras.Sequential([\n",
        "        layers.Input(shape=(X_train.shape[1], 1)),\n",
        "        layers.Conv1D(filters=16, kernel_size=3, activation='relu', padding='same'),\n",
        "        layers.MaxPooling1D(pool_size=2),\n",
        "        layers.Conv1D(filters=32, kernel_size=3, activation='relu', padding='same'),\n",
        "        layers.MaxPooling1D(pool_size=2),\n",
        "        layers.Conv1D(filters=64, kernel_size=3, activation='relu', padding='same'),\n",
        "        layers.GlobalMaxPooling1D(),\n",
        "        layers.Dense(128, activation='relu'),\n",
        "        layers.Dropout(0.3),\n",
        "        layers.Dense(64, activation='relu'),\n",
        "        layers.Dense(1, activation='sigmoid')\n",
        "    ])\n",
        "    model.compile(optimizer=keras.optimizers.AdamW(learning_rate=0.001,weight_decay=1e-5),\n",
        "                  loss='binary_crossentropy',\n",
        "                  metrics=['accuracy'])\n",
        "    return model"
      ]
    },
    {
      "cell_type": "markdown",
      "metadata": {
        "id": "UddLF_3znv1e"
      },
      "source": [
        "# Training the CNN Model"
      ]
    },
    {
      "cell_type": "code",
      "execution_count": null,
      "metadata": {
        "colab": {
          "base_uri": "https://localhost:8080/"
        },
        "id": "8QWTuJTWOkZ8",
        "outputId": "dce33545-3c10-4568-90f3-a2ee2d81f481"
      },
      "outputs": [],
      "source": [
        "# Create the CNN model\n",
        "cnn_model = create_cnn()\n",
        "\n",
        "# Callbacks: Early stopping and learning rate reduction\n",
        "early_stopping = EarlyStopping(monitor='val_loss', patience=3, restore_best_weights=True)\n",
        "lr_scheduler = ReduceLROnPlateau(monitor='val_loss', factor=0.5, patience=2, min_lr=1e-6)\n",
        "\n",
        "# Train the CNN model\n",
        "history = cnn_model.fit(\n",
        "    X_train, y_train,\n",
        "    validation_split=0.1,\n",
        "    epochs=10,\n",
        "    batch_size=32,\n",
        "    callbacks=[early_stopping, lr_scheduler],\n",
        "    verbose=1\n",
        ")"
      ]
    },
    {
      "cell_type": "markdown",
      "metadata": {
        "id": "1nBGyvNWnyup"
      },
      "source": [
        "# Predicting and Evaluating the CNN Model"
      ]
    },
    {
      "cell_type": "code",
      "execution_count": null,
      "metadata": {
        "colab": {
          "base_uri": "https://localhost:8080/"
        },
        "id": "QrF5yXuXOqja",
        "outputId": "8ca4883f-1823-47ed-f8ac-83b98f270b12"
      },
      "outputs": [],
      "source": [
        "y_predicted = (cnn_model.predict(X_test) > 0.5).astype(int)\n",
        "report=classification_report(y_test, y_predicted)\n",
        "print('Classification report:\\n', classification_report(y_test, y_predicted))\n",
        "cm = confusion_matrix(y_true=y_test, y_pred=y_predicted)\n",
        "print('Confusion matrix:\\n', cm)\n",
        "accuracy=accuracy_score(y_test, y_predicted)\n",
        "print('Accuracy:', accuracy_score(y_test, y_predicted))\n",
        "precision = precision_score(y_test, y_predicted, pos_label=1.0)\n",
        "print('precision : ',precision)\n",
        "recall = recall_score(y_test, y_predicted, pos_label=1.0)\n",
        "print('recall rate : ',recall)"
      ]
    },
    {
      "cell_type": "markdown",
      "metadata": {
        "id": "CK_Liz4ln3A6"
      },
      "source": [
        "# Saving the Model and Metrics"
      ]
    },
    {
      "cell_type": "code",
      "execution_count": null,
      "metadata": {
        "colab": {
          "base_uri": "https://localhost:8080/",
          "height": 616
        },
        "id": "9B7JIsmXOv_R",
        "outputId": "0fdfdbea-180f-4b3e-bfbd-be89d192c200"
      },
      "outputs": [],
      "source": [
        "import os\n",
        "import seaborn as sns\n",
        "# Output Directory\n",
        "output_path = \"/content/drive/MyDrive/Major Project/Model_Outputs\"\n",
        "os.makedirs(output_path, exist_ok=True)\n",
        "\n",
        "# Save model\n",
        "model_save_path = os.path.join(output_path, \"cnn_model.keras\")\n",
        "cnn_model.save(model_save_path)\n",
        "print(f\"Model saved at: {model_save_path}\")\n",
        "\n",
        "# Save classification report and confusion matrix\n",
        "metrics_path = os.path.join(output_path, \"cnn_model_metrics.txt\")\n",
        "with open(metrics_path, \"w\") as f:\n",
        "    f.write(\"Classification Report:\\n\")\n",
        "    f.write(report)\n",
        "    f.write(\"\\nConfusion Matrix:\\n\")\n",
        "    f.write(str(cm))\n",
        "    f.write(f\"\\nAccuracy: {accuracy:.4f}\")\n",
        "    f.write(f\"\\nPrecision: {precision:.4f}\")\n",
        "    f.write(f\"\\nRecall: {recall:.4f}\")\n",
        "print(f\"Metrics saved at: {metrics_path}\")\n",
        "\n",
        "# Save confusion matrix plot\n",
        "plt.figure(figsize=(8, 6))\n",
        "sns.heatmap(cm, annot=True, fmt='d', cmap='Blues')\n",
        "plt.title('Confusion Matrix')\n",
        "plt.xlabel('Predicted')\n",
        "plt.ylabel('Actual')\n",
        "plt.show()\n",
        "conf_matrix_path = os.path.join(output_path, \"cnn_confusion_matrix.png\")\n",
        "plt.savefig(conf_matrix_path)\n",
        "plt.close()\n",
        "print(f\"Confusion matrix plot saved at: {conf_matrix_path}\")"
      ]
    },
    {
      "cell_type": "markdown",
      "metadata": {
        "id": "Uw8ux1Gw7BKn"
      },
      "source": [
        "# Loading the Saved Model"
      ]
    },
    {
      "cell_type": "code",
      "execution_count": null,
      "metadata": {
        "colab": {
          "base_uri": "https://localhost:8080/",
          "height": 1000
        },
        "id": "NN7J1bLl7Dgm",
        "outputId": "7f2633da-6de6-401b-811c-ce7c6ac30776"
      },
      "outputs": [],
      "source": [
        "import joblib\n",
        "from joblib import load\n",
        "import os\n",
        "from sklearn.metrics import classification_report, confusion_matrix, accuracy_score,precision_score,recall_score, roc_auc_score,roc_curve,precision_recall_curve,auc,roc_curve,f1_score\n",
        "import matplotlib.pyplot as plt\n",
        "import seaborn as sns\n",
        "from tensorflow.keras.models import load_model\n",
        "\n",
        "# Path to load the saved model\n",
        "model_load_path = \"/content/drive/MyDrive/Major Project/Model_Outputs/cnn_model.keras\"\n",
        "\n",
        "# Load the CNN model\n",
        "cnn_model_loaded = load_model(model_load_path)\n",
        "\n",
        "# Predict on test data\n",
        "y_pred_prob = cnn_model_loaded.predict(X_test)\n",
        "y_pred_test = (y_pred_prob > 0.5).astype(int)\n",
        "\n",
        "# Metrics: Precision, Recall, F1-Score\n",
        "precision = precision_score(y_test, y_pred_test)\n",
        "recall = recall_score(y_test, y_pred_test)\n",
        "f1 = f1_score(y_test, y_pred_test)\n",
        "accuracy = accuracy_score(y_test, y_pred_test)\n",
        "\n",
        "print(f\"Accuracy: {accuracy:.3f}\")\n",
        "print(f\"Precision: {precision:.3f}\")\n",
        "print(f\"Recall: {recall:.3f}\")\n",
        "print(f\"F1-Score: {f1:.3f}\")\n",
        "\n",
        "# Classification Report and Confusion Matrix\n",
        "report = classification_report(y_test, y_pred_test)\n",
        "print(\"\\nClassification Report:\\n\", report)\n",
        "\n",
        "cm = confusion_matrix(y_test, y_pred_test)\n",
        "print(\"\\nConfusion Matrix:\\n\", cm)\n",
        "\n",
        "# Plot Confusion Matrix\n",
        "plt.figure(figsize=(8, 6))\n",
        "sns.heatmap(cm, annot=True, fmt=\"d\", cmap=\"Blues\")\n",
        "plt.title(\"Confusion Matrix\")\n",
        "plt.xlabel(\"Predicted\")\n",
        "plt.ylabel(\"Actual\")\n",
        "plt.show()\n",
        "\n",
        "# AUC-ROC Curve\n",
        "fpr, tpr, _ = roc_curve(y_test, y_pred_prob)\n",
        "roc_auc = auc(fpr, tpr)\n",
        "\n",
        "plt.figure(figsize=(8, 6))\n",
        "plt.plot(fpr, tpr, color=\"darkorange\", label=f\"ROC Curve (AUC = {roc_auc:.3f})\")\n",
        "plt.title(\"AUC-ROC Curve\")\n",
        "plt.xlabel(\"False Positive Rate\")\n",
        "plt.ylabel(\"True Positive Rate\")\n",
        "plt.legend(loc=\"lower right\")\n",
        "plt.grid()\n",
        "plt.show()\n",
        "\n",
        "# AUC-PRC Curve\n",
        "precision_pr, recall_pr, _ = precision_recall_curve(y_test, y_pred_prob)\n",
        "pr_auc = auc(recall_pr, precision_pr)\n",
        "\n",
        "plt.figure(figsize=(8, 6))\n",
        "plt.plot(recall_pr, precision_pr, color=\"purple\", lw=2, label=f\"PR Curve (AUC = {pr_auc:.3f})\")\n",
        "plt.title(\"AUC-PRC Curve\")\n",
        "plt.xlabel(\"Recall\")\n",
        "plt.ylabel(\"Precision\")\n",
        "plt.legend(loc=\"lower left\")\n",
        "plt.grid()\n",
        "plt.show()"
      ]
    }
  ],
  "metadata": {
    "colab": {
      "provenance": []
    },
    "kernelspec": {
      "display_name": "Python 3",
      "name": "python3"
    },
    "language_info": {
      "name": "python"
    }
  },
  "nbformat": 4,
  "nbformat_minor": 0
}
